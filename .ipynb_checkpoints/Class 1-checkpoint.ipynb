{
 "cells": [
  {
   "cell_type": "markdown",
   "id": "5b069f84",
   "metadata": {},
   "source": [
    "for letter in \"Hello, world\":\n",
    "    print(letter)\n",
    "    "
   ]
  },
  {
   "cell_type": "markdown",
   "id": "d4331427",
   "metadata": {},
   "source": [
    "# Problem 1\n",
    "\n",
    "### Anagram Check\n",
    "\n",
    "Create a function that takes two strings as parameters and returns True if they are anagrams of each other, False otherwise\n",
    "\n",
    "~~~\n",
    "Examples: \n",
    "1. heart and earth\n",
    "2. car and cars\n",
    "3. star and rats\n",
    "etc\n",
    "~~~\n",
    "\n",
    "### Criteria\n",
    "Two Strings are anagrams of each other if and only if all of the criteria below are met:\n",
    ">1. They musht use all the same characters\n",
    ">2. They must be of wxactly the same length ( in characters_"
   ]
  },
  {
   "cell_type": "code",
   "execution_count": 1,
   "id": "b067913f",
   "metadata": {},
   "outputs": [],
   "source": [
    "# Generate the pseudocode that solves the problem above"
   ]
  },
  {
   "cell_type": "code",
   "execution_count": 2,
   "id": "de3ce3fa",
   "metadata": {},
   "outputs": [
    {
     "ename": "SyntaxError",
     "evalue": "unmatched ')' (1186362431.py, line 1)",
     "output_type": "error",
     "traceback": [
      "\u001b[0;36m  Cell \u001b[0;32mIn[2], line 1\u001b[0;36m\u001b[0m\n\u001b[0;31m    1) compare length of characters without spaces or captital letters\u001b[0m\n\u001b[0m     ^\u001b[0m\n\u001b[0;31mSyntaxError\u001b[0m\u001b[0;31m:\u001b[0m unmatched ')'\n"
     ]
    }
   ],
   "source": [
    "1) compare length of characters without spaces or captital letters\n",
    "    if characters in string are the same length, True\n",
    "    else False,..."
   ]
  },
  {
   "cell_type": "code",
   "execution_count": 3,
   "id": "0216bb32",
   "metadata": {},
   "outputs": [
    {
     "ename": "SyntaxError",
     "evalue": "unmatched ')' (2117574073.py, line 1)",
     "output_type": "error",
     "traceback": [
      "\u001b[0;36m  Cell \u001b[0;32mIn[3], line 1\u001b[0;36m\u001b[0m\n\u001b[0;31m    2) compare each character in the two strings\u001b[0m\n\u001b[0m     ^\u001b[0m\n\u001b[0;31mSyntaxError\u001b[0m\u001b[0;31m:\u001b[0m unmatched ')'\n"
     ]
    }
   ],
   "source": [
    "2) compare each character in the two strings \n",
    "    if all characters are not identical, False"
   ]
  },
  {
   "cell_type": "code",
   "execution_count": 4,
   "id": "b93e2df4",
   "metadata": {},
   "outputs": [
    {
     "ename": "SyntaxError",
     "evalue": "unmatched ')' (1828844560.py, line 1)",
     "output_type": "error",
     "traceback": [
      "\u001b[0;36m  Cell \u001b[0;32mIn[4], line 1\u001b[0;36m\u001b[0m\n\u001b[0;31m    3) compare the number of times each character appears in strings\u001b[0m\n\u001b[0m     ^\u001b[0m\n\u001b[0;31mSyntaxError\u001b[0m\u001b[0;31m:\u001b[0m unmatched ')'\n"
     ]
    }
   ],
   "source": [
    "3) compare the number of times each character appears in strings\n",
    "    if all characters do not appear the same number of times, False"
   ]
  },
  {
   "cell_type": "code",
   "execution_count": 5,
   "id": "6d5ee9e1",
   "metadata": {},
   "outputs": [
    {
     "ename": "SyntaxError",
     "evalue": "invalid syntax (2303125833.py, line 1)",
     "output_type": "error",
     "traceback": [
      "\u001b[0;36m  Cell \u001b[0;32mIn[5], line 1\u001b[0;36m\u001b[0m\n\u001b[0;31m    if all characters are the same and appear the same number of times, True\u001b[0m\n\u001b[0m           ^\u001b[0m\n\u001b[0;31mSyntaxError\u001b[0m\u001b[0;31m:\u001b[0m invalid syntax\n"
     ]
    }
   ],
   "source": [
    "    if all characters are the same and appear the same number of times, True"
   ]
  },
  {
   "cell_type": "code",
   "execution_count": 6,
   "id": "2323847e",
   "metadata": {},
   "outputs": [
    {
     "ename": "SyntaxError",
     "evalue": "invalid syntax (3170182259.py, line 1)",
     "output_type": "error",
     "traceback": [
      "\u001b[0;36m  Cell \u001b[0;32mIn[6], line 1\u001b[0;36m\u001b[0m\n\u001b[0;31m    define function anagram_check that recieves parameters: string_a, string_b:\u001b[0m\n\u001b[0m           ^\u001b[0m\n\u001b[0;31mSyntaxError\u001b[0m\u001b[0;31m:\u001b[0m invalid syntax\n"
     ]
    }
   ],
   "source": [
    "define function anagram_check that recieves parameters: string_a, string_b:\n",
    "        string_a = string_a in lower case\n",
    "        remove_spaces(string_a)\n",
    "        string_b = string_b in lower case\n",
    "        remove_spaces(string_b)\n",
    "        if the length of string_a does not equal the length of string_b:\n",
    "            return False\n",
    "        otherwise:\n",
    "            dict_a = new dictionary\n",
    "            dict_b = new dictionary\n",
    "            for each index in the range from 0 to the length of string_a minus one:\n",
    "                if the character at index in string_a is in dict_a:\n",
    "                    add one to the existing value of that character in dict_a\n",
    "                otherwise:\n",
    "                    create a new entry in dit_a  # represents seen char once\n",
    "                    add one to the value of that character in dict_a\n",
    "                    if the character at index in string_b is in dict_b:\n",
    "                    add one to the existing value of that character in dict_b\n",
    "                otherwise:\n",
    "                    create a new entry in dict_b\n",
    "                    add one to the value of that character in dict_b\n",
    "            end for\n",
    "        if dict_a is equal to dict_b:\n",
    "            return True\n",
    "        otherwise:\n",
    "            return False\n",
    "            "
   ]
  },
  {
   "cell_type": "code",
   "execution_count": null,
   "id": "b29d6afb",
   "metadata": {},
   "outputs": [],
   "source": [
    "# look at ascii table to give letters a number value to calculate"
   ]
  }
 ],
 "metadata": {
  "kernelspec": {
   "display_name": "Python 3 (ipykernel)",
   "language": "python",
   "name": "python3"
  },
  "language_info": {
   "codemirror_mode": {
    "name": "ipython",
    "version": 3
   },
   "file_extension": ".py",
   "mimetype": "text/x-python",
   "name": "python",
   "nbconvert_exporter": "python",
   "pygments_lexer": "ipython3",
   "version": "3.10.6"
  }
 },
 "nbformat": 4,
 "nbformat_minor": 5
}
